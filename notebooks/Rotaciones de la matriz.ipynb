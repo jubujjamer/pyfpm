{
 "cells": [
  {
   "cell_type": "markdown",
   "metadata": {},
   "source": [
    "# Simulating microscope\n",
    "\n",
    "Initial setup of the microsope and view of its acquisition details."
   ]
  },
  {
   "cell_type": "code",
   "execution_count": 5,
   "metadata": {},
   "outputs": [
    {
     "name": "stdout",
     "output_type": "stream",
     "text": [
      "Notebook initialized with x3d backend.\n",
      "Original size: 300\n",
      "Pupil radius: 29 pixels\n",
      "mk: 5, patch size: 60\n",
      "Max phi given by NA_syn: 23.6\n",
      "Total simulated samples: 25\n"
     ]
    }
   ],
   "source": [
    "%reload_ext autoreload\n",
    "import matplotlib\n",
    "%matplotlib inline\n",
    "import mayavi.mlab as mlab\n",
    "import matplotlib.pyplot as plt\n",
    "import numpy as np\n",
    "from scipy import signal\n",
    "import time\n",
    "from scipy.spatial.transform import Rotation as R\n",
    "from ipywidgets import interact\n",
    "\n",
    "from fpmsample.simicro import SimMicroscope\n",
    "from fpmsample import math\n",
    "from phaseopt import data\n",
    "from phaseopt import math as phasemath\n",
    "\n",
    "mlab.init_notebook()\n",
    "cfg = data.cfg_load()\n",
    "sm = SimMicroscope(cfg=cfg)\n",
    "sm.details()"
   ]
  },
  {
   "cell_type": "markdown",
   "metadata": {},
   "source": [
    "Generation of the matrix of illumination and the simplified microscope setup."
   ]
  },
  {
   "cell_type": "code",
   "execution_count": 8,
   "metadata": {},
   "outputs": [
    {
     "data": {
      "image/png": "[encoded data removed]",
      "text/plain": [
       "<Figure size 576x1152 with 1 Axes>"
      ]
     },
     "metadata": {
      "needs_background": "light"
     },
     "output_type": "display_data"
    }
   ],
   "source": [
    "height = sm.height\n",
    "size = sm.array_size\n",
    "max_index = int((size-1)//2)\n",
    "gap = sm.led_gap\n",
    "x0, y0 ,z0 = [0, 0, 0]\n",
    "xs, ys, zs = [0, 0, -height]\n",
    "psi, phi, theta = [0, 30, 0]\n",
    "offset = np.array([0, 0, -height])\n",
    "r = R.from_euler('zyx', [psi, phi, theta], degrees=True)\n",
    "x, y = np.mgrid[-max_index:max_index+1:1, -max_index:max_index+1:1]*gap\n",
    "# Applying the rotation\n",
    "coordinate_grid = np.array([x, y, np.zeros_like(x)])\n",
    "rotated_vectors = r.apply(coordinate_grid.transpose().reshape(-1, 3))+offset\n",
    "rotated_vectors = rotated_vectors.transpose()\n",
    "\n",
    "mlab.figure(size=(700,1000), bgcolor=(1, 1, 1))\n",
    "mlab.points3d(x0, y0, z0, 1, colormap=\"hot\", mode='2dsquare', scale_factor=40, vmin=1, vmax=3)\n",
    "mlab.points3d(xs, ys, zs, 1, colormap=\"hot\", mode='2dsquare', scale_factor=40, vmin=1, vmax=3)\n",
    "camview = mlab.view(azimuth=-45, elevation=90, distance=150)\n",
    "mlab.points3d(rotated_vectors[0], rotated_vectors[1], rotated_vectors[2], scale_factor=1, color=(.5, .2, .2))\n",
    "#mlab.quiver3d(0, 0, 0, n[0], n[1], n[2])\n",
    "mlab.view(*camview)\n",
    "\n",
    "# Simulation parameters\n",
    "arr = mlab.screenshot(antialiased=True)\n",
    "mlab.show()\n",
    "fig, ax = plt.subplots(1,1, figsize=[8, 16])\n",
    "ax.imshow(arr,  interpolation=\"bilinear\")\n",
    "ax.axis('off')\n",
    "mlab.close()"
   ]
  },
  {
   "cell_type": "code",
   "execution_count": 11,
   "metadata": {},
   "outputs": [
    {
     "data": {
      "application/vnd.jupyter.widget-view+json": {
       "model_id": "388fcd43e9aa4e8c84c6914ed7351727",
       "version_major": 2,
       "version_minor": 0
      },
      "text/plain": [
       "interactive(children=(IntSlider(value=0, description='theta1', max=30, min=-30, step=5), IntSlider(value=0, de…"
      ]
     },
     "metadata": {},
     "output_type": "display_data"
    }
   ],
   "source": [
    "def set_setup(height, na):\n",
    "    \"\"\" Sets up the scene.\n",
    "    \"\"\"\n",
    "    tan_theta = na/(np.sqrt(1-na**2)) # sin/cos\n",
    "    na_radius = tan_theta*height\n",
    "    x0, y0 ,z0 = [0, 0, 0]\n",
    "    xs, ys, zs = [0, 0, -height]\n",
    "    mlab.figure(size=(600,600), bgcolor=(1, 1, 1))\n",
    "    mlab.points3d(x0, y0, z0, 1, colormap=\"hot\", mode='2dsquare', scale_factor=40, vmin=1, vmax=3)\n",
    "    mlab.points3d(xs, ys, zs, 1, colormap=\"hot\", mode='2dsquare', scale_factor=40, vmin=1, vmax=3)\n",
    "    camview = mlab.view(azimuth=-45, elevation=70, distance = 100)\n",
    "    fig = mlab.gcf()\n",
    "    return fig, camview\n",
    "\n",
    "def plot_source(position, direction, camview, color='None', fig='None'):\n",
    "    x, y ,z = position\n",
    "    u, v, w = direction\n",
    "    value = 1.2\n",
    "    mlab.points3d(x, y, -z, value, color=(.1, .1, 1), mode='sphere', scale_factor=2, vmin = 2, vmax = 3, figure=fig)\n",
    "    mlab.view(*camview)\n",
    "    return\n",
    "\n",
    "def plot_matrix_plane(camview, height, theta1, theta2, theta3):\n",
    "    size = 2\n",
    "    offset = np.array([0, 0, 0])\n",
    "    r = R.from_euler('zyx', [theta1, theta2, theta3], degrees=True)\n",
    "    x, y = np.mgrid[-size:size:1, -size:size:1]*6\n",
    "    coordinate_grid = np.array([x, y, np.zeros_like(x)])\n",
    "    rotated = r.apply(coordinate_grid.transpose().reshape(-1, 3))\n",
    "    rotated = rotated.transpose()\n",
    "    mlab.points3d(rotated[0], rotated[1], rotated[2], scale_factor=1, color=(.5, .2, .2))\n",
    "    #mlab.quiver3d(0, 0, 0, n[0], n[1], n[2])\n",
    "    mlab.view(*camview)\n",
    "    return\n",
    "\n",
    "# Simulation parameters\n",
    "def f(theta1, theta2, theta3):\n",
    "    fig, camview = set_setup(30, sm.na)\n",
    "    plot_matrix_plane(camview, 10, theta1, theta2, theta3)\n",
    "    arr = mlab.screenshot()\n",
    "    mlab.show()\n",
    "    fig, ax = plt.subplots(1,1, figsize=[8, 12])\n",
    "    ax.imshow(arr)\n",
    "    ax.axis('off')\n",
    "    mlab.close()\n",
    "maxang = 30\n",
    "lims = (-maxang,maxang, 5)\n",
    "interact(f, theta1=lims, theta2=lims, theta3=lims);\n",
    "#mlab.show()\n"
   ]
  },
  {
   "cell_type": "code",
   "execution_count": 6,
   "metadata": {},
   "outputs": [],
   "source": [
    "size = 3\n",
    "r = R.from_euler('zyx', [0, 0, 0], degrees=True)\n",
    "x, y = np.mgrid[-size:size:1, -size:size:1]\n",
    "coordinate_grid = np.array([x, y, np.zeros_like(x)])\n",
    "rotated = r.apply(coordinate_grid.transpose().reshape(-1, 3))\n",
    "z = rotated\n",
    "#z = (-n[0]*x-n[1]*y-d)*1/n[2]\n",
    "o = rotated.transpose()"
   ]
  },
  {
   "cell_type": "code",
   "execution_count": 133,
   "metadata": {},
   "outputs": [],
   "source": [
    "normal_vector = np.array([0,0,1])\n",
    "offset = np.array([1, 2, 3])\n",
    "normal_vector = rot_mat@normal_vector\n",
    "d = -offset.dot(normal_vector)\n",
    "# calculate corresponding z\n",
    "z = (-normal_vector[0] * x - normal_vector[1] * y - d) * 1. /normal_vector[2]"
   ]
  },
  {
   "cell_type": "code",
   "execution_count": 29,
   "metadata": {},
   "outputs": [
    {
     "name": "stdout",
     "output_type": "stream",
     "text": [
      "[[ 6.99868923e-01  5.27621201e-03  0.00000000e+00]\n",
      " [-1.90737715e-01  1.15655864e+00  0.00000000e+00]\n",
      " [ 6.28281805e+00  2.58115173e+00  0.00000000e+00]]\n"
     ]
    }
   ],
   "source": [
    "centers = [(0, 0), (2, 2), (6, 2)]\n",
    "r = R.from_euler('zyx', [10, 10, 20], degrees=True)\n",
    "# Applying the rotation\n",
    "centers = np.array([(0, 0), (2, 2), (6, 2)])\n",
    "n = len(centers)\n",
    "coordinate_grid = np.hstack((centers, np.zeros((n,1)) ))\n",
    "rotated_vectors = r.apply(coordinate_grid.transpose().reshape(-1, 3))\n",
    "rotated_vectors = rotated_vectors.transpose()\n",
    "print(rotated_vectors)"
   ]
  },
  {
   "cell_type": "code",
   "execution_count": 20,
   "metadata": {},
   "outputs": [
    {
     "name": "stdout",
     "output_type": "stream",
     "text": [
      "[[0. 0. 0.]\n",
      " [2. 2. 0.]\n",
      " [6. 2. 0.]]\n"
     ]
    }
   ],
   "source": [
    "centers = np.array([(0, 0), (2, 2), (6, 2)])\n",
    "n = len(centers)\n",
    "print(np.hstack((centers, np.zeros((n,1)) )))"
   ]
  },
  {
   "cell_type": "code",
   "execution_count": 27,
   "metadata": {},
   "outputs": [
    {
     "data": {
      "text/plain": [
       "array([1, 1, 0])"
      ]
     },
     "execution_count": 27,
     "metadata": {},
     "output_type": "execute_result"
    }
   ],
   "source": [
    "offset = np.array([1, 1])\n",
    "np.append(offset, 0)"
   ]
  },
  {
   "cell_type": "code",
   "execution_count": null,
   "metadata": {},
   "outputs": [],
   "source": []
  }
 ],
 "metadata": {
  "kernelspec": {
   "display_name": "Python [conda env:fastfpm-env] *",
   "language": "python",
   "name": "conda-env-fastfpm-env-py"
  },
  "language_info": {
   "codemirror_mode": {
    "name": "ipython",
    "version": 3
   },
   "file_extension": ".py",
   "mimetype": "text/x-python",
   "name": "python",
   "nbconvert_exporter": "python",
   "pygments_lexer": "ipython3",
   "version": "3.6.8"
  }
 },
 "nbformat": 4,
 "nbformat_minor": 1
}
